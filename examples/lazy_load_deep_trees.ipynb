{
 "cells": [
  {
   "cell_type": "code",
   "execution_count": null,
   "id": "1d64fc1a",
   "metadata": {},
   "outputs": [],
   "source": [
    "using AbstractTrees\n",
    "using D3Trees\n",
    "using HTTP\n",
    "using Sockets\n",
    "using JSON\n",
    "\n",
    "# Fix Jupyter issue that prevents logged stack traces to display correctly \n",
    "# https://github.com/JuliaLang/IJulia.jl/pull/1045\n",
    "using Logging\n",
    "logger = ConsoleLogger(Base.stderr)\n",
    "Base.CoreLogging.global_logger(logger)"
   ]
  },
  {
   "cell_type": "markdown",
   "id": "dc2aad6b",
   "metadata": {},
   "source": [
    "# Infinite tree using the children interface\n",
    "\n",
    "Available from `include(joinpath(dirname(dirname(pathof(D3Trees))), \"test\", \"binary_abstract_trees.jl\"))`"
   ]
  },
  {
   "cell_type": "code",
   "execution_count": null,
   "id": "6fb0fd10",
   "metadata": {},
   "outputs": [],
   "source": [
    "\"\"\"\n",
    "Binary tree node. Must have field id.\n",
    "\"\"\"\n",
    "abstract type BTNode end\n",
    "\n",
    "bt_depth(id::Int) = floor(UInt, log2(id))\n",
    "bt_children_ids(id::Int) = [2*id, 2*id+1]\n",
    "bt_depth(n::BTNode) = bt_depth(n.id)\n",
    "Base.show(io::IO, n::BTNode) = print(io, \"$(n.id) (d=$(bt_depth(n))) -> $(getfield.(AbstractTrees.children(n), :id))\")\n",
    "D3Trees.style(BTNode) = \"fill:yellow\"\n",
    "\n",
    "\"\"\"\n",
    "    LimitedDepthTree(id, max_leaf_depth)\n",
    "\n",
    "Create binary tree rooted at index with leave depth specified by the `max_leaf_depth` parameter.\n",
    "The AbstractTrees.children method does not expand the tree beyond the `max_leaf_depth`.\n",
    "Maximum `max_leaf_depth` is typemax(Int)\n",
    "\"\"\"\n",
    "struct LimitedDepthTree <: BTNode\n",
    "    id::Int\n",
    "    max_leaf_depth::Int\n",
    "\n",
    "    function LimitedDepthTree(id, leaf_depth)\n",
    "        @assert id>0 \"All notes must have id > 0, root has 1.\"\n",
    "        @assert leaf_depth>=0\n",
    "        new(id, leaf_depth)\n",
    "    end\n",
    "end\n",
    "\n",
    "LimitedDepthTree(;root_id=1, max_leaf_depth=typemax(Int)) =  LimitedDepthTree(root_id, max_leaf_depth)\n",
    "expand(n::LimitedDepthTree) = bt_depth(n) < n.max_leaf_depth\n",
    "\n",
    "\n",
    "# The required interface method\n",
    "AbstractTrees.children(n::LimitedDepthTree) = expand(n) ? LimitedDepthTree.(bt_children_ids(n.id), n.max_leaf_depth) : LimitedDepthTree[]"
   ]
  },
  {
   "cell_type": "markdown",
   "id": "ad16493c",
   "metadata": {},
   "source": [
    "# Lazy loading infinite tree\n",
    " - F12 to see the javascript logging\n",
    " - If it does not appear on its own, run any cell below to view the Julia log\n",
    " - If developing remotely, you might have to tunnel the tree server port, e.g. with `ssh -A -L 16370:localhost:16370 yourname@yourserver.eu`"
   ]
  },
  {
   "cell_type": "code",
   "execution_count": null,
   "id": "8ec81149",
   "metadata": {},
   "outputs": [],
   "source": [
    "# Set logging level to debug to see the server communication\n",
    "# debuglogger = ConsoleLogger(stderr, Logging.Debug)\n",
    "# Base.CoreLogging.global_logger(debuglogger)"
   ]
  },
  {
   "cell_type": "code",
   "execution_count": null,
   "id": "0371a7ad",
   "metadata": {},
   "outputs": [],
   "source": [
    "# Tree with very large depth\n",
    "ldroot = LimitedDepthTree()\n",
    "\n",
    "# lazy_expand_after_depth controls the initial generation of the tree, \n",
    "# through the `children` AbstractTrees.jl interface\n",
    "t = D3Tree(ldroot, lazy_expand_after_depth=0, init_expand=1, lazy_subtree_depth=1)"
   ]
  },
  {
   "cell_type": "code",
   "execution_count": null,
   "id": "6c743386",
   "metadata": {},
   "outputs": [],
   "source": [
    "# run another tree of the same server\n",
    "Base.show(io::IO, n::BTNode) = print(io, \"\") # this also affects new nodes of previous tree\n",
    "D3Tree(ldroot, lazy_expand_after_depth=0, init_expand=1, lazy_subtree_depth=1)"
   ]
  },
  {
   "cell_type": "code",
   "execution_count": null,
   "id": "517fd4d7",
   "metadata": {},
   "outputs": [],
   "source": [
    "# run another tree on new server\n",
    "D3Tree(ldroot, lazy_expand_after_depth=0, init_expand=1, lazy_subtree_depth=1, port=4564)"
   ]
  },
  {
   "cell_type": "code",
   "execution_count": null,
   "id": "53f669ce",
   "metadata": {},
   "outputs": [],
   "source": [
    "# Show existing servers\n",
    "D3Trees.SERVERS"
   ]
  },
  {
   "cell_type": "code",
   "execution_count": null,
   "id": "6bcbd033",
   "metadata": {},
   "outputs": [],
   "source": [
    "# Show tree data on default server\n",
    "# D3Trees.SERVERS[D3Trees.DEFAULT_PORT].tree_data\n",
    "\n",
    "# Reset default server\n",
    "# D3Trees.reset_server(D3Trees.DEFAULT_PORT)\n",
    "\n",
    "# The data is removed\n",
    "# D3Trees.SERVERS[D3Trees.DEFAULT_PORT].tree_data\n",
    "\n",
    "# Reset all servesrs\n",
    "# D3Trees.reset_server!()\n",
    "\n",
    "# Shutdown all servers\n",
    "D3Trees.shutdown_server!()"
   ]
  }
 ],
 "metadata": {
  "@webio": {
   "lastCommId": null,
   "lastKernelId": null
  },
  "kernelspec": {
   "display_name": "Julia 1.7.2",
   "language": "julia",
   "name": "julia-1.7"
  },
  "language_info": {
   "file_extension": ".jl",
   "mimetype": "application/julia",
   "name": "julia",
   "version": "1.7.2"
  },
  "toc": {
   "base_numbering": 1,
   "nav_menu": {},
   "number_sections": true,
   "sideBar": true,
   "skip_h1_title": false,
   "title_cell": "Table of Contents",
   "title_sidebar": "Contents",
   "toc_cell": false,
   "toc_position": {},
   "toc_section_display": true,
   "toc_window_display": false
  }
 },
 "nbformat": 4,
 "nbformat_minor": 5
}
